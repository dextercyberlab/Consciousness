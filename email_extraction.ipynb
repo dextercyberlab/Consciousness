{
 "cells": [
  {
   "cell_type": "code",
   "execution_count": null,
   "metadata": {},
   "outputs": [
    {
     "name": "stdout",
     "output_type": "stream",
     "text": [
      "Extraction completed. Data saved to output_emails/emails.json\n"
     ]
    }
   ],
   "source": [
    "import os\n",
    "import json\n",
    "import email\n",
    "from email import policy\n",
    "from email.parser import BytesParser\n",
    "from concurrent.futures import ThreadPoolExecutor\n",
    "\n",
    "def parse_eml(file_path):\n",
    "    try:\n",
    "        with open(file_path, 'rb') as f:\n",
    "            msg = BytesParser(policy=policy.default).parse(f)\n",
    "        \n",
    "        email_data = {\n",
    "            \"datetime\": msg[\"Date\"],\n",
    "            \"to\": msg[\"To\"],\n",
    "            \"reply-to\": msg[\"Reply-To\"] if msg[\"Reply-To\"] else \"\",\n",
    "            \"CC\": msg[\"CC\"] if msg[\"CC\"] else \"\",\n",
    "            \"Bcc\": msg[\"Bcc\"] if msg[\"Bcc\"] else \"\",\n",
    "            \"subject\": msg[\"Subject\"],\n",
    "            \"body\": get_email_body(msg),\n",
    "            \"attachments\": any(part.get_filename() for part in msg.walk() if part.get_filename()),\n",
    "            \"label\": \"inbox\"  # Modify this based on email folder location\n",
    "        }\n",
    "        return email_data\n",
    "    except Exception as e:\n",
    "        print(f\"Error processing {file_path}: {e}\")\n",
    "        return None\n",
    "\n",
    "def get_email_body(msg):\n",
    "    try:\n",
    "        if msg.is_multipart():\n",
    "            for part in msg.walk():\n",
    "                if part.get_content_type() == \"text/plain\":\n",
    "                    charset = part.get_content_charset() or \"utf-8\"\n",
    "                    return part.get_payload(decode=True).decode(charset, errors=\"ignore\")\n",
    "        else:\n",
    "            charset = msg.get_content_charset() or \"utf-8\"\n",
    "            return msg.get_payload(decode=True).decode(charset, errors=\"ignore\")\n",
    "    except Exception as e:\n",
    "        print(f\"Error extracting body: {e}\")\n",
    "    return \"\"\n",
    "\n",
    "def convert_eml_folder_to_json(folder_path, output_folder):\n",
    "    try:\n",
    "        if not os.path.exists(folder_path):\n",
    "            print(\"Error: The specified input folder does not exist.\")\n",
    "            return\n",
    "        \n",
    "        os.makedirs(output_folder, exist_ok=True)\n",
    "        output_file = os.path.join(output_folder, \"emails.json\")\n",
    "        \n",
    "        eml_files = [os.path.join(folder_path, f) for f in os.listdir(folder_path) if f.endswith(\".eml\")]\n",
    "        \n",
    "        if not eml_files:\n",
    "            print(\"No .eml files found in the specified folder.\")\n",
    "            return\n",
    "        \n",
    "        with ThreadPoolExecutor() as executor:\n",
    "            emails = list(filter(None, executor.map(parse_eml, eml_files)))\n",
    "        \n",
    "        with open(output_file, \"w\", encoding=\"utf-8\") as json_file:\n",
    "            json.dump(emails, json_file, indent=4)\n",
    "        print(f\"Extraction completed. Data saved to {output_file}\")\n",
    "    except Exception as e:\n",
    "        print(f\"Unexpected error: {e}\")\n",
    "\n",
    "# Example usage\n",
    "folder_path = \"/Users/dextercyberlabs/Desktop/LLM/Emails\"  # Change this to your folder path\n",
    "output_folder = \"output_emails\"  # The folder will be created automatically if it doesn't exist\n",
    "convert_eml_folder_to_json(folder_path, output_folder)"
   ]
  }
 ],
 "metadata": {
  "kernelspec": {
   "display_name": "Python 3",
   "language": "python",
   "name": "python3"
  },
  "language_info": {
   "codemirror_mode": {
    "name": "ipython",
    "version": 3
   },
   "file_extension": ".py",
   "mimetype": "text/x-python",
   "name": "python",
   "nbconvert_exporter": "python",
   "pygments_lexer": "ipython3",
   "version": "3.9.6"
  }
 },
 "nbformat": 4,
 "nbformat_minor": 2
}
